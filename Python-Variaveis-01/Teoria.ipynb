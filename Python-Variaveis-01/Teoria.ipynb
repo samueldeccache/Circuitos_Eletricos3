{
 "cells": [
  {
   "cell_type": "code",
   "execution_count": null,
   "metadata": {},
   "outputs": [],
   "source": [
    "#tipos de variáveis\n",
    "a = 3 #int\n",
    "b = 3.5 #float \n",
    "c = 'olá' #str\n",
    "\n",
    "print(type(a))\n",
    "print(type(b))\n",
    "print(type(c))"
   ]
  }
 ],
 "metadata": {
  "kernelspec": {
   "display_name": "Python 3",
   "language": "python",
   "name": "python3"
  },
  "language_info": {
   "codemirror_mode": {
    "name": "ipython",
    "version": 3
   },
   "file_extension": ".py",
   "mimetype": "text/x-python",
   "name": "python",
   "nbconvert_exporter": "python",
   "pygments_lexer": "ipython3",
   "version": "3.10.7"
  },
  "orig_nbformat": 4,
  "vscode": {
   "interpreter": {
    "hash": "bf4f10ff2e973dc9c3be27ea1efa5ecfa60369921970d072c7cfc7679c1c5ce0"
   }
  }
 },
 "nbformat": 4,
 "nbformat_minor": 2
}
